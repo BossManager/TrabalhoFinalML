{
 "cells": [
  {
   "cell_type": "markdown",
   "metadata": {},
   "source": [
    "<h1>Trabalho final da disciplina de Aprendizado de maquina</h1>"
   ]
  },
  {
   "cell_type": "markdown",
   "metadata": {},
   "source": [
    "Dataset escolhido:https://www.kaggle.com/rtatman/did-it-rain-in-seattle-19482017\n",
    "<br>Equipe: Carlos alexandre e Daniel nogueira"
   ]
  },
  {
   "cell_type": "code",
   "execution_count": 106,
   "metadata": {},
   "outputs": [],
   "source": [
    "#Importando pacotes\n",
    "import pandas as pd\n",
    "import numpy as np\n",
    "from sklearn.preprocessing import Normalizer\n",
    "import matplotlib.pyplot as plt"
   ]
  },
  {
   "cell_type": "code",
   "execution_count": 115,
   "metadata": {},
   "outputs": [],
   "source": [
    "#carregando base de dados\n",
    "dengue = pd.read_csv('dengue-dataset.csv')"
   ]
  },
  {
   "cell_type": "code",
   "execution_count": 116,
   "metadata": {},
   "outputs": [
    {
     "data": {
      "text/html": [
       "<div>\n",
       "<style scoped>\n",
       "    .dataframe tbody tr th:only-of-type {\n",
       "        vertical-align: middle;\n",
       "    }\n",
       "\n",
       "    .dataframe tbody tr th {\n",
       "        vertical-align: top;\n",
       "    }\n",
       "\n",
       "    .dataframe thead th {\n",
       "        text-align: right;\n",
       "    }\n",
       "</style>\n",
       "<table border=\"1\" class=\"dataframe\">\n",
       "  <thead>\n",
       "    <tr style=\"text-align: right;\">\n",
       "      <th></th>\n",
       "      <th>data</th>\n",
       "      <th>casos-confirmados</th>\n",
       "      <th>chuva</th>\n",
       "      <th>temperatura-media</th>\n",
       "      <th>temperatura-mininima</th>\n",
       "      <th>temperatura-maxima</th>\n",
       "    </tr>\n",
       "  </thead>\n",
       "  <tbody>\n",
       "    <tr>\n",
       "      <th>0</th>\n",
       "      <td>1998-01-01</td>\n",
       "      <td>237</td>\n",
       "      <td>179.2</td>\n",
       "      <td>25.7</td>\n",
       "      <td>20.2</td>\n",
       "      <td>28.1</td>\n",
       "    </tr>\n",
       "    <tr>\n",
       "      <th>1</th>\n",
       "      <td>1998-02-01</td>\n",
       "      <td>331</td>\n",
       "      <td>226.3</td>\n",
       "      <td>25.1</td>\n",
       "      <td>20.0</td>\n",
       "      <td>28.0</td>\n",
       "    </tr>\n",
       "    <tr>\n",
       "      <th>2</th>\n",
       "      <td>1998-03-01</td>\n",
       "      <td>562</td>\n",
       "      <td>149.1</td>\n",
       "      <td>24.8</td>\n",
       "      <td>22.4</td>\n",
       "      <td>27.2</td>\n",
       "    </tr>\n",
       "    <tr>\n",
       "      <th>3</th>\n",
       "      <td>1998-04-01</td>\n",
       "      <td>187</td>\n",
       "      <td>46.4</td>\n",
       "      <td>22.7</td>\n",
       "      <td>18.1</td>\n",
       "      <td>26.0</td>\n",
       "    </tr>\n",
       "    <tr>\n",
       "      <th>4</th>\n",
       "      <td>1998-05-01</td>\n",
       "      <td>32</td>\n",
       "      <td>88.3</td>\n",
       "      <td>19.2</td>\n",
       "      <td>15.7</td>\n",
       "      <td>22.9</td>\n",
       "    </tr>\n",
       "  </tbody>\n",
       "</table>\n",
       "</div>"
      ],
      "text/plain": [
       "         data  casos-confirmados  chuva  temperatura-media  \\\n",
       "0  1998-01-01                237  179.2               25.7   \n",
       "1  1998-02-01                331  226.3               25.1   \n",
       "2  1998-03-01                562  149.1               24.8   \n",
       "3  1998-04-01                187   46.4               22.7   \n",
       "4  1998-05-01                 32   88.3               19.2   \n",
       "\n",
       "   temperatura-mininima  temperatura-maxima  \n",
       "0                  20.2                28.1  \n",
       "1                  20.0                28.0  \n",
       "2                  22.4                27.2  \n",
       "3                  18.1                26.0  \n",
       "4                  15.7                22.9  "
      ]
     },
     "execution_count": 116,
     "metadata": {},
     "output_type": "execute_result"
    }
   ],
   "source": [
    " dengue.head()"
   ]
  },
  {
   "cell_type": "code",
   "execution_count": 117,
   "metadata": {},
   "outputs": [],
   "source": [
    "#Tirando linhas com valores 'perdidos'\n",
    "dengue.dropna(inplace=True)"
   ]
  },
  {
   "cell_type": "code",
   "execution_count": 118,
   "metadata": {},
   "outputs": [],
   "source": [
    "#Separando o dia, o mês e o ano em 3 colunas\n",
    "dengue['ano'],dengue['mes'],dengue['dia'] = dengue['data'].str.split('-').str\n",
    "#tirando a coluna data\n",
    "dengue.drop(columns='data',inplace=True)"
   ]
  },
  {
   "cell_type": "code",
   "execution_count": 119,
   "metadata": {},
   "outputs": [
    {
     "data": {
      "text/html": [
       "<div>\n",
       "<style scoped>\n",
       "    .dataframe tbody tr th:only-of-type {\n",
       "        vertical-align: middle;\n",
       "    }\n",
       "\n",
       "    .dataframe tbody tr th {\n",
       "        vertical-align: top;\n",
       "    }\n",
       "\n",
       "    .dataframe thead th {\n",
       "        text-align: right;\n",
       "    }\n",
       "</style>\n",
       "<table border=\"1\" class=\"dataframe\">\n",
       "  <thead>\n",
       "    <tr style=\"text-align: right;\">\n",
       "      <th></th>\n",
       "      <th>casos-confirmados</th>\n",
       "      <th>chuva</th>\n",
       "      <th>temperatura-media</th>\n",
       "      <th>temperatura-mininima</th>\n",
       "      <th>temperatura-maxima</th>\n",
       "      <th>ano</th>\n",
       "      <th>mes</th>\n",
       "      <th>dia</th>\n",
       "    </tr>\n",
       "  </thead>\n",
       "  <tbody>\n",
       "    <tr>\n",
       "      <th>0</th>\n",
       "      <td>237</td>\n",
       "      <td>179.2</td>\n",
       "      <td>25.7</td>\n",
       "      <td>20.2</td>\n",
       "      <td>28.1</td>\n",
       "      <td>1998</td>\n",
       "      <td>01</td>\n",
       "      <td>01</td>\n",
       "    </tr>\n",
       "    <tr>\n",
       "      <th>1</th>\n",
       "      <td>331</td>\n",
       "      <td>226.3</td>\n",
       "      <td>25.1</td>\n",
       "      <td>20.0</td>\n",
       "      <td>28.0</td>\n",
       "      <td>1998</td>\n",
       "      <td>02</td>\n",
       "      <td>01</td>\n",
       "    </tr>\n",
       "    <tr>\n",
       "      <th>2</th>\n",
       "      <td>562</td>\n",
       "      <td>149.1</td>\n",
       "      <td>24.8</td>\n",
       "      <td>22.4</td>\n",
       "      <td>27.2</td>\n",
       "      <td>1998</td>\n",
       "      <td>03</td>\n",
       "      <td>01</td>\n",
       "    </tr>\n",
       "    <tr>\n",
       "      <th>3</th>\n",
       "      <td>187</td>\n",
       "      <td>46.4</td>\n",
       "      <td>22.7</td>\n",
       "      <td>18.1</td>\n",
       "      <td>26.0</td>\n",
       "      <td>1998</td>\n",
       "      <td>04</td>\n",
       "      <td>01</td>\n",
       "    </tr>\n",
       "    <tr>\n",
       "      <th>4</th>\n",
       "      <td>32</td>\n",
       "      <td>88.3</td>\n",
       "      <td>19.2</td>\n",
       "      <td>15.7</td>\n",
       "      <td>22.9</td>\n",
       "      <td>1998</td>\n",
       "      <td>05</td>\n",
       "      <td>01</td>\n",
       "    </tr>\n",
       "  </tbody>\n",
       "</table>\n",
       "</div>"
      ],
      "text/plain": [
       "   casos-confirmados  chuva  temperatura-media  temperatura-mininima  \\\n",
       "0                237  179.2               25.7                  20.2   \n",
       "1                331  226.3               25.1                  20.0   \n",
       "2                562  149.1               24.8                  22.4   \n",
       "3                187   46.4               22.7                  18.1   \n",
       "4                 32   88.3               19.2                  15.7   \n",
       "\n",
       "   temperatura-maxima   ano mes dia  \n",
       "0                28.1  1998  01  01  \n",
       "1                28.0  1998  02  01  \n",
       "2                27.2  1998  03  01  \n",
       "3                26.0  1998  04  01  \n",
       "4                22.9  1998  05  01  "
      ]
     },
     "execution_count": 119,
     "metadata": {},
     "output_type": "execute_result"
    }
   ],
   "source": [
    "#Mostrando os novos dados\n",
    "dengue.head()"
   ]
  },
  {
   "cell_type": "code",
   "execution_count": 120,
   "metadata": {},
   "outputs": [],
   "source": [
    "#Normalizando os dados\n",
    "# Create normalizer\n",
    "normalizer = Normalizer(norm='l2')\n",
    "\n",
    "# Transform feature matrix\n",
    "X = normalizer.transform(dengue.iloc[:,0:6])\n",
    "\n",
    "dengue_normalize = dengue.copy()\n",
    "#substituindo cada valor novo na tabela original\n",
    "dengue_normalize['casos-confirmados'] = X[:,0]\n",
    "dengue_normalize['chuva'] = X[:,1]\n",
    "dengue_normalize['temperatura-media'] = X[:,2]\n",
    "dengue_normalize['temperatura-mininima'] = X[:,3]\n",
    "dengue_normalize['temperatura-maxima'] = X[:,4]\n"
   ]
  },
  {
   "cell_type": "code",
   "execution_count": 121,
   "metadata": {},
   "outputs": [
    {
     "data": {
      "text/html": [
       "<div>\n",
       "<style scoped>\n",
       "    .dataframe tbody tr th:only-of-type {\n",
       "        vertical-align: middle;\n",
       "    }\n",
       "\n",
       "    .dataframe tbody tr th {\n",
       "        vertical-align: top;\n",
       "    }\n",
       "\n",
       "    .dataframe thead th {\n",
       "        text-align: right;\n",
       "    }\n",
       "</style>\n",
       "<table border=\"1\" class=\"dataframe\">\n",
       "  <thead>\n",
       "    <tr style=\"text-align: right;\">\n",
       "      <th></th>\n",
       "      <th>casos-confirmados</th>\n",
       "      <th>chuva</th>\n",
       "      <th>temperatura-media</th>\n",
       "      <th>temperatura-mininima</th>\n",
       "      <th>temperatura-maxima</th>\n",
       "      <th>ano</th>\n",
       "      <th>mes</th>\n",
       "      <th>dia</th>\n",
       "    </tr>\n",
       "  </thead>\n",
       "  <tbody>\n",
       "    <tr>\n",
       "      <th>0</th>\n",
       "      <td>0.117302</td>\n",
       "      <td>0.088694</td>\n",
       "      <td>0.012720</td>\n",
       "      <td>0.009998</td>\n",
       "      <td>0.013908</td>\n",
       "      <td>1998</td>\n",
       "      <td>01</td>\n",
       "      <td>01</td>\n",
       "    </tr>\n",
       "    <tr>\n",
       "      <th>1</th>\n",
       "      <td>0.162392</td>\n",
       "      <td>0.111025</td>\n",
       "      <td>0.012314</td>\n",
       "      <td>0.009812</td>\n",
       "      <td>0.013737</td>\n",
       "      <td>1998</td>\n",
       "      <td>02</td>\n",
       "      <td>01</td>\n",
       "    </tr>\n",
       "    <tr>\n",
       "      <th>2</th>\n",
       "      <td>0.270020</td>\n",
       "      <td>0.071637</td>\n",
       "      <td>0.011915</td>\n",
       "      <td>0.010762</td>\n",
       "      <td>0.013069</td>\n",
       "      <td>1998</td>\n",
       "      <td>03</td>\n",
       "      <td>01</td>\n",
       "    </tr>\n",
       "    <tr>\n",
       "      <th>3</th>\n",
       "      <td>0.093144</td>\n",
       "      <td>0.023112</td>\n",
       "      <td>0.011307</td>\n",
       "      <td>0.009016</td>\n",
       "      <td>0.012950</td>\n",
       "      <td>1998</td>\n",
       "      <td>04</td>\n",
       "      <td>01</td>\n",
       "    </tr>\n",
       "    <tr>\n",
       "      <th>4</th>\n",
       "      <td>0.015996</td>\n",
       "      <td>0.044139</td>\n",
       "      <td>0.009598</td>\n",
       "      <td>0.007848</td>\n",
       "      <td>0.011447</td>\n",
       "      <td>1998</td>\n",
       "      <td>05</td>\n",
       "      <td>01</td>\n",
       "    </tr>\n",
       "  </tbody>\n",
       "</table>\n",
       "</div>"
      ],
      "text/plain": [
       "   casos-confirmados     chuva  temperatura-media  temperatura-mininima  \\\n",
       "0           0.117302  0.088694           0.012720              0.009998   \n",
       "1           0.162392  0.111025           0.012314              0.009812   \n",
       "2           0.270020  0.071637           0.011915              0.010762   \n",
       "3           0.093144  0.023112           0.011307              0.009016   \n",
       "4           0.015996  0.044139           0.009598              0.007848   \n",
       "\n",
       "   temperatura-maxima   ano mes dia  \n",
       "0            0.013908  1998  01  01  \n",
       "1            0.013737  1998  02  01  \n",
       "2            0.013069  1998  03  01  \n",
       "3            0.012950  1998  04  01  \n",
       "4            0.011447  1998  05  01  "
      ]
     },
     "execution_count": 121,
     "metadata": {},
     "output_type": "execute_result"
    }
   ],
   "source": [
    "dengue_normalize.head()     "
   ]
  },
  {
   "cell_type": "code",
   "execution_count": 125,
   "metadata": {},
   "outputs": [
    {
     "data": {
      "image/png": "[encoded data removed]",
      "text/plain": [
       "<matplotlib.figure.Figure at 0x7f95c3b127f0>"
      ]
     },
     "metadata": {
      "needs_background": "light"
     },
     "output_type": "display_data"
    }
   ],
   "source": [
    "#correlacionando casos confirmados e a chuva\n",
    "plt.scatter(dengue_normalize.iloc[:,6],dengue_normalize.iloc[:,0])\n",
    "plt.xlabel(\"meses\")\n",
    "plt.ylabel(\"casos de dengue\")\n",
    "plt.show()"
   ]
  },
  {
   "cell_type": "code",
   "execution_count": null,
   "metadata": {},
   "outputs": [],
   "source": []
  }
 ],
 "metadata": {
  "kernelspec": {
   "display_name": "Python 3",
   "language": "python",
   "name": "python3"
  },
  "language_info": {
   "codemirror_mode": {
    "name": "ipython",
    "version": 3
   },
   "file_extension": ".py",
   "mimetype": "text/x-python",
   "name": "python",
   "nbconvert_exporter": "python",
   "pygments_lexer": "ipython3",
   "version": "3.6.7"
  }
 },
 "nbformat": 4,
 "nbformat_minor": 2
}
